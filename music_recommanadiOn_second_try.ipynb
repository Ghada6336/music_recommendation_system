{
 "cells": [
  {
   "cell_type": "markdown",
   "metadata": {},
   "source": [
    "# Music Recommendation System\n"
   ]
  },
  {
   "cell_type": "code",
   "execution_count": 1,
   "metadata": {},
   "outputs": [],
   "source": [
    "import pandas as pd"
   ]
  },
  {
   "cell_type": "code",
   "execution_count": 2,
   "metadata": {},
   "outputs": [
    {
     "data": {
      "text/html": [
       "<div>\n",
       "<style scoped>\n",
       "    .dataframe tbody tr th:only-of-type {\n",
       "        vertical-align: middle;\n",
       "    }\n",
       "\n",
       "    .dataframe tbody tr th {\n",
       "        vertical-align: top;\n",
       "    }\n",
       "\n",
       "    .dataframe thead th {\n",
       "        text-align: right;\n",
       "    }\n",
       "</style>\n",
       "<table border=\"1\" class=\"dataframe\">\n",
       "  <thead>\n",
       "    <tr style=\"text-align: right;\">\n",
       "      <th></th>\n",
       "      <th>artist</th>\n",
       "      <th>song</th>\n",
       "      <th>link</th>\n",
       "      <th>text</th>\n",
       "    </tr>\n",
       "  </thead>\n",
       "  <tbody>\n",
       "    <tr>\n",
       "      <th>57645</th>\n",
       "      <td>Ziggy Marley</td>\n",
       "      <td>Good Old Days</td>\n",
       "      <td>/z/ziggy+marley/good+old+days_10198588.html</td>\n",
       "      <td>Irie days come on play  \\r\\nLet the angels fly...</td>\n",
       "    </tr>\n",
       "    <tr>\n",
       "      <th>57646</th>\n",
       "      <td>Ziggy Marley</td>\n",
       "      <td>Hand To Mouth</td>\n",
       "      <td>/z/ziggy+marley/hand+to+mouth_20531167.html</td>\n",
       "      <td>Power to the workers  \\r\\nMore power  \\r\\nPowe...</td>\n",
       "    </tr>\n",
       "    <tr>\n",
       "      <th>57647</th>\n",
       "      <td>Zwan</td>\n",
       "      <td>Come With Me</td>\n",
       "      <td>/z/zwan/come+with+me_20148981.html</td>\n",
       "      <td>all you need  \\r\\nis something i'll believe  \\...</td>\n",
       "    </tr>\n",
       "    <tr>\n",
       "      <th>57648</th>\n",
       "      <td>Zwan</td>\n",
       "      <td>Desire</td>\n",
       "      <td>/z/zwan/desire_20148986.html</td>\n",
       "      <td>northern star  \\r\\nam i frightened  \\r\\nwhere ...</td>\n",
       "    </tr>\n",
       "    <tr>\n",
       "      <th>57649</th>\n",
       "      <td>Zwan</td>\n",
       "      <td>Heartsong</td>\n",
       "      <td>/z/zwan/heartsong_20148991.html</td>\n",
       "      <td>come in  \\r\\nmake yourself at home  \\r\\ni'm a ...</td>\n",
       "    </tr>\n",
       "  </tbody>\n",
       "</table>\n",
       "</div>"
      ],
      "text/plain": [
       "             artist           song  \\\n",
       "57645  Ziggy Marley  Good Old Days   \n",
       "57646  Ziggy Marley  Hand To Mouth   \n",
       "57647          Zwan   Come With Me   \n",
       "57648          Zwan         Desire   \n",
       "57649          Zwan      Heartsong   \n",
       "\n",
       "                                              link  \\\n",
       "57645  /z/ziggy+marley/good+old+days_10198588.html   \n",
       "57646  /z/ziggy+marley/hand+to+mouth_20531167.html   \n",
       "57647           /z/zwan/come+with+me_20148981.html   \n",
       "57648                 /z/zwan/desire_20148986.html   \n",
       "57649              /z/zwan/heartsong_20148991.html   \n",
       "\n",
       "                                                    text  \n",
       "57645  Irie days come on play  \\r\\nLet the angels fly...  \n",
       "57646  Power to the workers  \\r\\nMore power  \\r\\nPowe...  \n",
       "57647  all you need  \\r\\nis something i'll believe  \\...  \n",
       "57648  northern star  \\r\\nam i frightened  \\r\\nwhere ...  \n",
       "57649  come in  \\r\\nmake yourself at home  \\r\\ni'm a ...  "
      ]
     },
     "execution_count": 2,
     "metadata": {},
     "output_type": "execute_result"
    }
   ],
   "source": [
    "\n",
    "df = pd.read_csv(\"C:/Users/NTC/Downloads/music/spotify_millsongdata.csv\")\n",
    "df.head(5)\n",
    "df.tail(5)"
   ]
  },
  {
   "cell_type": "code",
   "execution_count": 3,
   "metadata": {},
   "outputs": [
    {
     "data": {
      "text/plain": [
       "(57650, 4)"
      ]
     },
     "execution_count": 3,
     "metadata": {},
     "output_type": "execute_result"
    }
   ],
   "source": [
    "df.shape"
   ]
  },
  {
   "cell_type": "code",
   "execution_count": 4,
   "metadata": {},
   "outputs": [
    {
     "data": {
      "text/plain": [
       "artist    0\n",
       "song      0\n",
       "link      0\n",
       "text      0\n",
       "dtype: int64"
      ]
     },
     "execution_count": 4,
     "metadata": {},
     "output_type": "execute_result"
    }
   ],
   "source": [
    "df.isnull().sum()"
   ]
  },
  {
   "cell_type": "code",
   "execution_count": 5,
   "metadata": {},
   "outputs": [],
   "source": [
    "df = df.sample(5000).drop('link', axis=1).reset_index(drop=True)"
   ]
  },
  {
   "cell_type": "code",
   "execution_count": 6,
   "metadata": {},
   "outputs": [
    {
     "data": {
      "text/html": [
       "<div>\n",
       "<style scoped>\n",
       "    .dataframe tbody tr th:only-of-type {\n",
       "        vertical-align: middle;\n",
       "    }\n",
       "\n",
       "    .dataframe tbody tr th {\n",
       "        vertical-align: top;\n",
       "    }\n",
       "\n",
       "    .dataframe thead th {\n",
       "        text-align: right;\n",
       "    }\n",
       "</style>\n",
       "<table border=\"1\" class=\"dataframe\">\n",
       "  <thead>\n",
       "    <tr style=\"text-align: right;\">\n",
       "      <th></th>\n",
       "      <th>artist</th>\n",
       "      <th>song</th>\n",
       "      <th>text</th>\n",
       "    </tr>\n",
       "  </thead>\n",
       "  <tbody>\n",
       "    <tr>\n",
       "      <th>0</th>\n",
       "      <td>Travis</td>\n",
       "      <td>Coming Around</td>\n",
       "      <td>Never see you coming around  \\r\\nThey know the...</td>\n",
       "    </tr>\n",
       "    <tr>\n",
       "      <th>1</th>\n",
       "      <td>Ace Of Base</td>\n",
       "      <td>Come To Me</td>\n",
       "      <td>[Intro:]  \\r\\n(Dance Music Playing)  \\r\\n  \\r\\...</td>\n",
       "    </tr>\n",
       "    <tr>\n",
       "      <th>2</th>\n",
       "      <td>Andy Williams</td>\n",
       "      <td>Let It Be Me</td>\n",
       "      <td>God bless the day I found you  \\r\\nI want to s...</td>\n",
       "    </tr>\n",
       "    <tr>\n",
       "      <th>3</th>\n",
       "      <td>David Allan Coe</td>\n",
       "      <td>If This Is Just A Game</td>\n",
       "      <td>If I give my love to you girl, will I get love...</td>\n",
       "    </tr>\n",
       "    <tr>\n",
       "      <th>4</th>\n",
       "      <td>Otis Redding</td>\n",
       "      <td>That's What My Heart Needs</td>\n",
       "      <td>You left me, for another  \\r\\nYou told me, he ...</td>\n",
       "    </tr>\n",
       "    <tr>\n",
       "      <th>5</th>\n",
       "      <td>Zao</td>\n",
       "      <td>Praise The War Machine</td>\n",
       "      <td>The death of the Omega pilots the war machine ...</td>\n",
       "    </tr>\n",
       "    <tr>\n",
       "      <th>6</th>\n",
       "      <td>Paul Simon</td>\n",
       "      <td>Star Carol</td>\n",
       "      <td>Long years ago on a deep winter night  \\r\\nHig...</td>\n",
       "    </tr>\n",
       "    <tr>\n",
       "      <th>7</th>\n",
       "      <td>Natalie Cole</td>\n",
       "      <td>Sophisticated Lady</td>\n",
       "      <td>Written by chuck jackson, marvin yancy and nat...</td>\n",
       "    </tr>\n",
       "    <tr>\n",
       "      <th>8</th>\n",
       "      <td>Stevie Wonder</td>\n",
       "      <td>Seems So Long</td>\n",
       "      <td>Lady love and lady cared  \\r\\nBut lady went aw...</td>\n",
       "    </tr>\n",
       "    <tr>\n",
       "      <th>9</th>\n",
       "      <td>W.A.S.P.</td>\n",
       "      <td>Black Bone Torso</td>\n",
       "      <td>Black bone torso,  \\r\\nblack bone torso.  \\r\\n...</td>\n",
       "    </tr>\n",
       "  </tbody>\n",
       "</table>\n",
       "</div>"
      ],
      "text/plain": [
       "            artist                        song  \\\n",
       "0           Travis               Coming Around   \n",
       "1      Ace Of Base                  Come To Me   \n",
       "2    Andy Williams                Let It Be Me   \n",
       "3  David Allan Coe      If This Is Just A Game   \n",
       "4     Otis Redding  That's What My Heart Needs   \n",
       "5              Zao      Praise The War Machine   \n",
       "6       Paul Simon                  Star Carol   \n",
       "7     Natalie Cole          Sophisticated Lady   \n",
       "8    Stevie Wonder               Seems So Long   \n",
       "9         W.A.S.P.            Black Bone Torso   \n",
       "\n",
       "                                                text  \n",
       "0  Never see you coming around  \\r\\nThey know the...  \n",
       "1  [Intro:]  \\r\\n(Dance Music Playing)  \\r\\n  \\r\\...  \n",
       "2  God bless the day I found you  \\r\\nI want to s...  \n",
       "3  If I give my love to you girl, will I get love...  \n",
       "4  You left me, for another  \\r\\nYou told me, he ...  \n",
       "5  The death of the Omega pilots the war machine ...  \n",
       "6  Long years ago on a deep winter night  \\r\\nHig...  \n",
       "7  Written by chuck jackson, marvin yancy and nat...  \n",
       "8  Lady love and lady cared  \\r\\nBut lady went aw...  \n",
       "9  Black bone torso,  \\r\\nblack bone torso.  \\r\\n...  "
      ]
     },
     "execution_count": 6,
     "metadata": {},
     "output_type": "execute_result"
    }
   ],
   "source": [
    "df.head(10)"
   ]
  },
  {
   "cell_type": "code",
   "execution_count": 7,
   "metadata": {},
   "outputs": [
    {
     "data": {
      "text/html": [
       "<div>\n",
       "<style scoped>\n",
       "    .dataframe tbody tr th:only-of-type {\n",
       "        vertical-align: middle;\n",
       "    }\n",
       "\n",
       "    .dataframe tbody tr th {\n",
       "        vertical-align: top;\n",
       "    }\n",
       "\n",
       "    .dataframe thead th {\n",
       "        text-align: right;\n",
       "    }\n",
       "</style>\n",
       "<table border=\"1\" class=\"dataframe\">\n",
       "  <thead>\n",
       "    <tr style=\"text-align: right;\">\n",
       "      <th></th>\n",
       "      <th>artist</th>\n",
       "      <th>song</th>\n",
       "      <th>text</th>\n",
       "    </tr>\n",
       "  </thead>\n",
       "  <tbody>\n",
       "    <tr>\n",
       "      <th>4990</th>\n",
       "      <td>Bruce Springsteen</td>\n",
       "      <td>Land Of Hope And Dreams</td>\n",
       "      <td>Grab your ticket and your suitcase  \\r\\nThunde...</td>\n",
       "    </tr>\n",
       "    <tr>\n",
       "      <th>4991</th>\n",
       "      <td>O.A.R.</td>\n",
       "      <td>Conquering Fools</td>\n",
       "      <td>Set out on the voyage of the conquering fools ...</td>\n",
       "    </tr>\n",
       "    <tr>\n",
       "      <th>4992</th>\n",
       "      <td>Human League</td>\n",
       "      <td>The Lebanon</td>\n",
       "      <td>She dreams of nineteen sixty-nine  \\r\\nBefore ...</td>\n",
       "    </tr>\n",
       "    <tr>\n",
       "      <th>4993</th>\n",
       "      <td>Cliff Richard</td>\n",
       "      <td>Ease Along</td>\n",
       "      <td>Spent all of his life in love with money  \\r\\n...</td>\n",
       "    </tr>\n",
       "    <tr>\n",
       "      <th>4994</th>\n",
       "      <td>Misfits</td>\n",
       "      <td>Spinal Remains</td>\n",
       "      <td>This isn't really death, this isn't really lif...</td>\n",
       "    </tr>\n",
       "    <tr>\n",
       "      <th>4995</th>\n",
       "      <td>John Mellencamp</td>\n",
       "      <td>Hit The Road Jack</td>\n",
       "      <td>Written by Percy Mayfield  \\r\\n  \\r\\nAh, ah, a...</td>\n",
       "    </tr>\n",
       "    <tr>\n",
       "      <th>4996</th>\n",
       "      <td>Lea Salonga</td>\n",
       "      <td>Fallin'</td>\n",
       "      <td>I'm afraid to fly  \\r\\nAnd I don't know why  \\...</td>\n",
       "    </tr>\n",
       "    <tr>\n",
       "      <th>4997</th>\n",
       "      <td>Van Halen</td>\n",
       "      <td>Why Can't This Be Love</td>\n",
       "      <td>Whoa, here it comes  \\r\\nThat funny feelin' ag...</td>\n",
       "    </tr>\n",
       "    <tr>\n",
       "      <th>4998</th>\n",
       "      <td>Tom Lehrer</td>\n",
       "      <td>Smut</td>\n",
       "      <td>I do have a cause, though, it is obscenity. I'...</td>\n",
       "    </tr>\n",
       "    <tr>\n",
       "      <th>4999</th>\n",
       "      <td>Justin Bieber</td>\n",
       "      <td>The Christmas Song</td>\n",
       "      <td>[Justin Bieber]  \\r\\nChestnuts roasting on an ...</td>\n",
       "    </tr>\n",
       "  </tbody>\n",
       "</table>\n",
       "</div>"
      ],
      "text/plain": [
       "                 artist                     song  \\\n",
       "4990  Bruce Springsteen  Land Of Hope And Dreams   \n",
       "4991             O.A.R.         Conquering Fools   \n",
       "4992       Human League              The Lebanon   \n",
       "4993      Cliff Richard               Ease Along   \n",
       "4994            Misfits           Spinal Remains   \n",
       "4995    John Mellencamp        Hit The Road Jack   \n",
       "4996        Lea Salonga                  Fallin'   \n",
       "4997          Van Halen   Why Can't This Be Love   \n",
       "4998         Tom Lehrer                     Smut   \n",
       "4999      Justin Bieber       The Christmas Song   \n",
       "\n",
       "                                                   text  \n",
       "4990  Grab your ticket and your suitcase  \\r\\nThunde...  \n",
       "4991  Set out on the voyage of the conquering fools ...  \n",
       "4992  She dreams of nineteen sixty-nine  \\r\\nBefore ...  \n",
       "4993  Spent all of his life in love with money  \\r\\n...  \n",
       "4994  This isn't really death, this isn't really lif...  \n",
       "4995  Written by Percy Mayfield  \\r\\n  \\r\\nAh, ah, a...  \n",
       "4996  I'm afraid to fly  \\r\\nAnd I don't know why  \\...  \n",
       "4997  Whoa, here it comes  \\r\\nThat funny feelin' ag...  \n",
       "4998  I do have a cause, though, it is obscenity. I'...  \n",
       "4999  [Justin Bieber]  \\r\\nChestnuts roasting on an ...  "
      ]
     },
     "execution_count": 7,
     "metadata": {},
     "output_type": "execute_result"
    }
   ],
   "source": [
    "df.tail(10)"
   ]
  },
  {
   "cell_type": "code",
   "execution_count": 8,
   "metadata": {},
   "outputs": [
    {
     "data": {
      "text/plain": [
       "\"Never see you coming around  \\r\\nThey know they got their heads screwed on  \\r\\nI'm standing in the middle of town  \\r\\nI know I might never come home  \\r\\nJust standing where I am with all the people passing by me  \\r\\nThe sound of all these passers-by mixed in with the bus and motor-car  \\r\\nI must be sure these are the signs  \\r\\nCause I've been here a million times before  \\r\\n  \\r\\nJust tell me when it's coming around, coming around  \\r\\nI think I see you coming to town, hunting you down  \\r\\nBringing you round  \\r\\n  \\r\\nTell me if I'm bringing you down  \\r\\nCause I was fine till you came along  \\r\\nYou tell me that the tears of a clown cloud  \\r\\nThat I'm confusing while abusing my mind  \\r\\nSo far away I wanna be  \\r\\nThat's not as close to you and me  \\r\\nThe things they call our destiny  \\r\\nNow why do you have to pick on me at all?  \\r\\nMy walls are coming down  \\r\\n  \\r\\nJust tell me when it's coming around, coming around  \\r\\nI think I see you coming to town, hunting you down  \\r\\nComing around\\r\\n\\r\\n\""
      ]
     },
     "execution_count": 8,
     "metadata": {},
     "output_type": "execute_result"
    }
   ],
   "source": [
    "df['text'][0]"
   ]
  },
  {
   "cell_type": "code",
   "execution_count": 9,
   "metadata": {},
   "outputs": [
    {
     "data": {
      "text/plain": [
       "(5000, 3)"
      ]
     },
     "execution_count": 9,
     "metadata": {},
     "output_type": "execute_result"
    }
   ],
   "source": [
    "df.shape"
   ]
  },
  {
   "cell_type": "markdown",
   "metadata": {},
   "source": [
    "Text Cleaning/ Text Preprocessing"
   ]
  },
  {
   "cell_type": "code",
   "execution_count": 10,
   "metadata": {},
   "outputs": [],
   "source": [
    "df['text'] = df['text'].str.lower().replace(r'^\\w\\s', ' ').replace(r'\\n', ' ', regex=True)"
   ]
  },
  {
   "cell_type": "code",
   "execution_count": 11,
   "metadata": {},
   "outputs": [
    {
     "name": "stderr",
     "output_type": "stream",
     "text": [
      "[nltk_data] Downloading package punkt to\n",
      "[nltk_data]     C:\\Users\\NTC\\AppData\\Roaming\\nltk_data...\n",
      "[nltk_data]   Package punkt is already up-to-date!\n"
     ]
    }
   ],
   "source": [
    "import nltk\n",
    "from nltk.stem.porter import PorterStemmer\n",
    "stemmer = PorterStemmer()\n",
    "nltk.download('punkt')\n",
    "\n",
    "\n",
    "\n",
    "def tokenization(txt):\n",
    "    tokens = nltk.word_tokenize(txt)\n",
    "    stemming = [stemmer.stem(w) for w in tokens]\n",
    "    return \" \".join(stemming)"
   ]
  },
  {
   "cell_type": "code",
   "execution_count": 12,
   "metadata": {},
   "outputs": [],
   "source": [
    "df['text'] = df['text'].apply(lambda x: tokenization(x))"
   ]
  },
  {
   "cell_type": "code",
   "execution_count": 13,
   "metadata": {},
   "outputs": [],
   "source": [
    "from sklearn.feature_extraction.text import TfidfVectorizer\n",
    "from sklearn.metrics.pairwise import cosine_similarity"
   ]
  },
  {
   "cell_type": "code",
   "execution_count": 14,
   "metadata": {},
   "outputs": [],
   "source": [
    "tfidvector = TfidfVectorizer(analyzer='word', stop_words='english')\n",
    "matrix = tfidvector.fit_transform(df['text'])\n",
    "similarity = cosine_similarity(matrix)"
   ]
  },
  {
   "cell_type": "code",
   "execution_count": 15,
   "metadata": {},
   "outputs": [
    {
     "data": {
      "text/plain": [
       "array([1.        , 0.30939379, 0.09148642, ..., 0.16502476, 0.03676262,\n",
       "       0.01083219])"
      ]
     },
     "execution_count": 15,
     "metadata": {},
     "output_type": "execute_result"
    }
   ],
   "source": [
    "similarity[0]"
   ]
  },
  {
   "cell_type": "code",
   "execution_count": 16,
   "metadata": {},
   "outputs": [],
   "source": [
    "def recommendation(song_df):\n",
    "    # Check if the song exists in the DataFrame\n",
    "    if song_df not in df['song'].values:\n",
    "        return \"Song not found in the dataset.\"\n",
    "\n",
    "    # Find the index of the song in the DataFrame\n",
    "    idx = df[df['song'] == song_df].index[0]\n",
    "\n",
    "    # Sort the similarities and get the top 20 similar songs\n",
    "    distances = sorted(\n",
    "        enumerate(similarity[idx]), reverse=True, key=lambda x: x[1])[1:21]\n",
    "\n",
    "    # Retrieve the names of the top 20 similar songs\n",
    "    similar_songs = [df.iloc[m_id[0]]['song'] for m_id in distances]\n",
    "\n",
    "    return similar_songs"
   ]
  },
  {
   "cell_type": "code",
   "execution_count": 17,
   "metadata": {},
   "outputs": [
    {
     "data": {
      "text/plain": [
       "'Song not found in the dataset.'"
      ]
     },
     "execution_count": 17,
     "metadata": {},
     "output_type": "execute_result"
    }
   ],
   "source": [
    "recommendation('A Baby Just Like You')"
   ]
  },
  {
   "cell_type": "code",
   "execution_count": 18,
   "metadata": {},
   "outputs": [],
   "source": [
    "import pickle\n",
    "pickle.dump(similarity, open('similarity.pkl', 'wb'))\n",
    "pickle.dump(df, open('df.pkl','wb'))"
   ]
  },
  {
   "cell_type": "code",
   "execution_count": 19,
   "metadata": {},
   "outputs": [
    {
     "name": "stdout",
     "output_type": "stream",
     "text": [
      "Similarity pickle file saved at: c:\\Users\\NTC\\Downloads\\similarity.pkl\n",
      "DataFrame pickle file saved at: c:\\Users\\NTC\\Downloads\\df.pkl\n"
     ]
    }
   ],
   "source": [
    "import os\n",
    "current_dir = os.getcwd()\n",
    "# Define the file paths\n",
    "similarity_path = os.path.join(current_dir, 'similarity.pkl')\n",
    "df_path = os.path.join(current_dir, 'df.pkl')\n",
    "\n",
    "# Dump the objects to pickle files\n",
    "pickle.dump(similarity, open(similarity_path, 'wb'))\n",
    "pickle.dump(df, open(df_path, 'wb'))\n",
    "\n",
    "# Print out the paths\n",
    "print(f\"Similarity pickle file saved at: {similarity_path}\")\n",
    "print(f\"DataFrame pickle file saved at: {df_path}\")"
   ]
  },
  {
   "cell_type": "code",
   "execution_count": null,
   "metadata": {},
   "outputs": [],
   "source": []
  }
 ],
 "metadata": {
  "kernelspec": {
   "display_name": "Python 3",
   "language": "python",
   "name": "python3"
  },
  "language_info": {
   "codemirror_mode": {
    "name": "ipython",
    "version": 3
   },
   "file_extension": ".py",
   "mimetype": "text/x-python",
   "name": "python",
   "nbconvert_exporter": "python",
   "pygments_lexer": "ipython3",
   "version": "3.12.3"
  }
 },
 "nbformat": 4,
 "nbformat_minor": 2
}
